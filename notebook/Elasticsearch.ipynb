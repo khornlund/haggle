{
 "cells": [
  {
   "cell_type": "code",
   "execution_count": 1,
   "metadata": {},
   "outputs": [],
   "source": [
    "%load_ext autoreload\n",
    "%autoreload 2"
   ]
  },
  {
   "cell_type": "code",
   "execution_count": 11,
   "metadata": {},
   "outputs": [],
   "source": [
    "from datetime import datetime\n",
    "from elasticsearch import Elasticsearch\n",
    "from haggle.elastic import ElasticHandler, ElasticIndices"
   ]
  },
  {
   "cell_type": "code",
   "execution_count": 12,
   "metadata": {},
   "outputs": [],
   "source": [
    "es = Elasticsearch()"
   ]
  },
  {
   "cell_type": "code",
   "execution_count": 13,
   "metadata": {
    "scrolled": true
   },
   "outputs": [
    {
     "data": {
      "text/plain": [
       "{'took': 2,\n",
       " 'timed_out': False,\n",
       " '_shards': {'total': 1, 'successful': 1, 'skipped': 0, 'failed': 0},\n",
       " 'hits': {'total': {'value': 7, 'relation': 'eq'},\n",
       "  'max_score': 1.0,\n",
       "  'hits': [{'_index': 'human-buyer',\n",
       "    '_type': 'chat-message',\n",
       "    '_id': '458E_WoB72W-cM3DRT-K',\n",
       "    '_score': 1.0,\n",
       "    '_source': {'session': '9b8c92a0-42dd-4818-9571-39420e6437fc',\n",
       "     'timestamp': '2019-05-28T15:27:56.598383',\n",
       "     'is-human': False,\n",
       "     'role': 'seller',\n",
       "     'message': 'Hello I am looking to buy Car'}},\n",
       "   {'_index': 'human-buyer',\n",
       "    '_type': 'chat-message',\n",
       "    '_id': '5J8E_WoB72W-cM3DSz9T',\n",
       "    '_score': 1.0,\n",
       "    '_source': {'session': '9b8c92a0-42dd-4818-9571-39420e6437fc',\n",
       "     'timestamp': '2019-05-28T15:27:58.216782',\n",
       "     'is-human': True,\n",
       "     'role': 'buyer',\n",
       "     'message': 'asdasd'}},\n",
       "   {'_index': 'human-buyer',\n",
       "    '_type': 'chat-message',\n",
       "    '_id': '5Z8E_WoB72W-cM3DSz9v',\n",
       "    '_score': 1.0,\n",
       "    '_source': {'session': '9b8c92a0-42dd-4818-9571-39420e6437fc',\n",
       "     'timestamp': '2019-05-28T15:27:58.252689',\n",
       "     'is-human': False,\n",
       "     'role': 'seller',\n",
       "     'message': 'I understand. Would you sell it for X?'}},\n",
       "   {'_index': 'human-buyer',\n",
       "    '_type': 'chat-message',\n",
       "    '_id': '5p8E_WoB72W-cM3DUD9t',\n",
       "    '_score': 1.0,\n",
       "    '_source': {'session': '9b8c92a0-42dd-4818-9571-39420e6437fc',\n",
       "     'timestamp': '2019-05-28T15:27:59.529578',\n",
       "     'is-human': True,\n",
       "     'role': 'buyer',\n",
       "     'message': 'sdfsdf'}},\n",
       "   {'_index': 'human-buyer',\n",
       "    '_type': 'chat-message',\n",
       "    '_id': '558E_WoB72W-cM3DUD-L',\n",
       "    '_score': 1.0,\n",
       "    '_source': {'session': '9b8c92a0-42dd-4818-9571-39420e6437fc',\n",
       "     'timestamp': '2019-05-28T15:27:59.559588',\n",
       "     'is-human': False,\n",
       "     'role': 'seller',\n",
       "     'message': 'I understand. Would you sell it for X?'}},\n",
       "   {'_index': 'human-buyer',\n",
       "    '_type': 'chat-message',\n",
       "    '_id': '6J8E_WoB72W-cM3DWD8d',\n",
       "    '_score': 1.0,\n",
       "    '_source': {'session': '9b8c92a0-42dd-4818-9571-39420e6437fc',\n",
       "     'timestamp': '2019-05-28T15:28:01.498320',\n",
       "     'is-human': True,\n",
       "     'role': 'buyer',\n",
       "     'message': 'asdasd'}},\n",
       "   {'_index': 'human-buyer',\n",
       "    '_type': 'chat-message',\n",
       "    '_id': '6Z8E_WoB72W-cM3DWD84',\n",
       "    '_score': 1.0,\n",
       "    '_source': {'session': '9b8c92a0-42dd-4818-9571-39420e6437fc',\n",
       "     'timestamp': '2019-05-28T15:28:01.524805',\n",
       "     'is-human': False,\n",
       "     'role': 'seller',\n",
       "     'message': 'I understand. Would you sell it for X?'}}]}}"
      ]
     },
     "execution_count": 13,
     "metadata": {},
     "output_type": "execute_result"
    }
   ],
   "source": [
    "es.search(index=ElasticIndices.HUMAN_BUYER)"
   ]
  },
  {
   "cell_type": "code",
   "execution_count": 8,
   "metadata": {},
   "outputs": [],
   "source": [
    "eh = ElasticHandler()"
   ]
  },
  {
   "cell_type": "code",
   "execution_count": 14,
   "metadata": {},
   "outputs": [
    {
     "data": {
      "text/plain": [
       "{'took': 3,\n",
       " 'timed_out': False,\n",
       " '_shards': {'total': 1, 'successful': 1, 'skipped': 0, 'failed': 0},\n",
       " 'hits': {'total': {'value': 7, 'relation': 'eq'},\n",
       "  'max_score': 1.0,\n",
       "  'hits': [{'_index': 'human-buyer',\n",
       "    '_type': 'chat-message',\n",
       "    '_id': '458E_WoB72W-cM3DRT-K',\n",
       "    '_score': 1.0,\n",
       "    '_source': {'session': '9b8c92a0-42dd-4818-9571-39420e6437fc',\n",
       "     'timestamp': '2019-05-28T15:27:56.598383',\n",
       "     'is-human': False,\n",
       "     'role': 'seller',\n",
       "     'message': 'Hello I am looking to buy Car'}},\n",
       "   {'_index': 'human-buyer',\n",
       "    '_type': 'chat-message',\n",
       "    '_id': '5J8E_WoB72W-cM3DSz9T',\n",
       "    '_score': 1.0,\n",
       "    '_source': {'session': '9b8c92a0-42dd-4818-9571-39420e6437fc',\n",
       "     'timestamp': '2019-05-28T15:27:58.216782',\n",
       "     'is-human': True,\n",
       "     'role': 'buyer',\n",
       "     'message': 'asdasd'}},\n",
       "   {'_index': 'human-buyer',\n",
       "    '_type': 'chat-message',\n",
       "    '_id': '5Z8E_WoB72W-cM3DSz9v',\n",
       "    '_score': 1.0,\n",
       "    '_source': {'session': '9b8c92a0-42dd-4818-9571-39420e6437fc',\n",
       "     'timestamp': '2019-05-28T15:27:58.252689',\n",
       "     'is-human': False,\n",
       "     'role': 'seller',\n",
       "     'message': 'I understand. Would you sell it for X?'}},\n",
       "   {'_index': 'human-buyer',\n",
       "    '_type': 'chat-message',\n",
       "    '_id': '5p8E_WoB72W-cM3DUD9t',\n",
       "    '_score': 1.0,\n",
       "    '_source': {'session': '9b8c92a0-42dd-4818-9571-39420e6437fc',\n",
       "     'timestamp': '2019-05-28T15:27:59.529578',\n",
       "     'is-human': True,\n",
       "     'role': 'buyer',\n",
       "     'message': 'sdfsdf'}},\n",
       "   {'_index': 'human-buyer',\n",
       "    '_type': 'chat-message',\n",
       "    '_id': '558E_WoB72W-cM3DUD-L',\n",
       "    '_score': 1.0,\n",
       "    '_source': {'session': '9b8c92a0-42dd-4818-9571-39420e6437fc',\n",
       "     'timestamp': '2019-05-28T15:27:59.559588',\n",
       "     'is-human': False,\n",
       "     'role': 'seller',\n",
       "     'message': 'I understand. Would you sell it for X?'}},\n",
       "   {'_index': 'human-buyer',\n",
       "    '_type': 'chat-message',\n",
       "    '_id': '6J8E_WoB72W-cM3DWD8d',\n",
       "    '_score': 1.0,\n",
       "    '_source': {'session': '9b8c92a0-42dd-4818-9571-39420e6437fc',\n",
       "     'timestamp': '2019-05-28T15:28:01.498320',\n",
       "     'is-human': True,\n",
       "     'role': 'buyer',\n",
       "     'message': 'asdasd'}},\n",
       "   {'_index': 'human-buyer',\n",
       "    '_type': 'chat-message',\n",
       "    '_id': '6Z8E_WoB72W-cM3DWD84',\n",
       "    '_score': 1.0,\n",
       "    '_source': {'session': '9b8c92a0-42dd-4818-9571-39420e6437fc',\n",
       "     'timestamp': '2019-05-28T15:28:01.524805',\n",
       "     'is-human': False,\n",
       "     'role': 'seller',\n",
       "     'message': 'I understand. Would you sell it for X?'}}]}}"
      ]
     },
     "execution_count": 14,
     "metadata": {},
     "output_type": "execute_result"
    }
   ],
   "source": [
    "eh.search(ElasticIndices.HUMAN_BUYER)"
   ]
  },
  {
   "cell_type": "code",
   "execution_count": null,
   "metadata": {},
   "outputs": [],
   "source": []
  }
 ],
 "metadata": {
  "kernelspec": {
   "display_name": "Python 3",
   "language": "python",
   "name": "python3"
  },
  "language_info": {
   "codemirror_mode": {
    "name": "ipython",
    "version": 3
   },
   "file_extension": ".py",
   "mimetype": "text/x-python",
   "name": "python",
   "nbconvert_exporter": "python",
   "pygments_lexer": "ipython3",
   "version": "3.6.7"
  }
 },
 "nbformat": 4,
 "nbformat_minor": 2
}
