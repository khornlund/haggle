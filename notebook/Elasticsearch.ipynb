{
 "cells": [
  {
   "cell_type": "code",
   "execution_count": 1,
   "metadata": {},
   "outputs": [],
   "source": [
    "%load_ext autoreload\n",
    "%autoreload 2"
   ]
  },
  {
   "cell_type": "code",
   "execution_count": 2,
   "metadata": {},
   "outputs": [],
   "source": [
    "from datetime import datetime\n",
    "from elasticsearch import Elasticsearch\n",
    "from haggle.elastic import ElasticHandler"
   ]
  },
  {
   "cell_type": "code",
   "execution_count": 3,
   "metadata": {},
   "outputs": [],
   "source": [
    "es = Elasticsearch()"
   ]
  },
  {
   "cell_type": "code",
   "execution_count": 6,
   "metadata": {},
   "outputs": [
    {
     "data": {
      "text/plain": [
       "{'any': 'data', 'timestamp': '2019-05-01T19:50:45.240515'}"
      ]
     },
     "execution_count": 6,
     "metadata": {},
     "output_type": "execute_result"
    }
   ],
   "source": [
    "# datetimes will be serialized\n",
    "es.index(\n",
    "    index=\"my-index\", \n",
    "    doc_type=\"test-type\", \n",
    "    id=43, \n",
    "    body={\n",
    "        \"any\": \"data\", \n",
    "        \"timestamp\": datetime.now()\n",
    "    })\n",
    "\n",
    "# but not deserialized\n",
    "es.get(index=\"my-index\", doc_type=\"test-type\", id=43)['_source']"
   ]
  },
  {
   "cell_type": "code",
   "execution_count": 8,
   "metadata": {
    "scrolled": true
   },
   "outputs": [
    {
     "data": {
      "text/plain": [
       "{'took': 30,\n",
       " 'timed_out': False,\n",
       " '_shards': {'total': 1, 'successful': 1, 'skipped': 0, 'failed': 0},\n",
       " 'hits': {'total': {'value': 10, 'relation': 'eq'},\n",
       "  'max_score': 1.0,\n",
       "  'hits': [{'_index': 'session-human-buyer',\n",
       "    '_type': 'chat-message',\n",
       "    '_id': 'YiTscmoBmpiKfxl8fUDN',\n",
       "    '_score': 1.0,\n",
       "    '_source': {'session': '658e5895-e881-4313-b43d-121264813538',\n",
       "     'timestamp': '2019-05-01T19:54:22.274367',\n",
       "     'is-human': False,\n",
       "     'role': 'seller',\n",
       "     'message': 'Hello I am looking to buy Car'}},\n",
       "   {'_index': 'session-human-buyer',\n",
       "    '_type': 'chat-message',\n",
       "    '_id': 'YyTscmoBmpiKfxl8j0Dg',\n",
       "    '_score': 1.0,\n",
       "    '_source': {'session': '338c184c-e049-4403-9617-dec481a70e4d',\n",
       "     'timestamp': '2019-05-01T19:54:27.095984',\n",
       "     'is-human': False,\n",
       "     'role': 'seller',\n",
       "     'message': 'Hello I am looking to buy Car'}},\n",
       "   {'_index': 'session-human-buyer',\n",
       "    '_type': 'chat-message',\n",
       "    '_id': 'ZCTscmoBmpiKfxl8lkA3',\n",
       "    '_score': 1.0,\n",
       "    '_source': {'session': '338c184c-e049-4403-9617-dec481a70e4d',\n",
       "     'timestamp': '2019-05-01T19:54:28.723726',\n",
       "     'is-human': True,\n",
       "     'role': 'buyer',\n",
       "     'message': 'asdasd'}},\n",
       "   {'_index': 'session-human-buyer',\n",
       "    '_type': 'chat-message',\n",
       "    '_id': 'ZSTscmoBmpiKfxl8lkBR',\n",
       "    '_score': 1.0,\n",
       "    '_source': {'session': '338c184c-e049-4403-9617-dec481a70e4d',\n",
       "     'timestamp': '2019-05-01T19:54:28.749900',\n",
       "     'is-human': False,\n",
       "     'role': 'seller',\n",
       "     'message': 'I understand. Would you sell it for X?'}},\n",
       "   {'_index': 'session-human-buyer',\n",
       "    '_type': 'chat-message',\n",
       "    '_id': 'ZiTscmoBmpiKfxl8nEAA',\n",
       "    '_score': 1.0,\n",
       "    '_source': {'session': '338c184c-e049-4403-9617-dec481a70e4d',\n",
       "     'timestamp': '2019-05-01T19:54:30.204843',\n",
       "     'is-human': True,\n",
       "     'role': 'buyer',\n",
       "     'message': 'sdfgsdf'}},\n",
       "   {'_index': 'session-human-buyer',\n",
       "    '_type': 'chat-message',\n",
       "    '_id': 'ZyTscmoBmpiKfxl8nEAZ',\n",
       "    '_score': 1.0,\n",
       "    '_source': {'session': '338c184c-e049-4403-9617-dec481a70e4d',\n",
       "     'timestamp': '2019-05-01T19:54:30.230875',\n",
       "     'is-human': False,\n",
       "     'role': 'seller',\n",
       "     'message': 'I understand. Would you sell it for X?'}},\n",
       "   {'_index': 'session-human-buyer',\n",
       "    '_type': 'chat-message',\n",
       "    '_id': 'aCTscmoBmpiKfxl8okBW',\n",
       "    '_score': 1.0,\n",
       "    '_source': {'session': '338c184c-e049-4403-9617-dec481a70e4d',\n",
       "     'timestamp': '2019-05-01T19:54:31.827039',\n",
       "     'is-human': True,\n",
       "     'role': 'buyer',\n",
       "     'message': 'xxxx'}},\n",
       "   {'_index': 'session-human-buyer',\n",
       "    '_type': 'chat-message',\n",
       "    '_id': 'aSTscmoBmpiKfxl8okBv',\n",
       "    '_score': 1.0,\n",
       "    '_source': {'session': '338c184c-e049-4403-9617-dec481a70e4d',\n",
       "     'timestamp': '2019-05-01T19:54:31.852077',\n",
       "     'is-human': False,\n",
       "     'role': 'seller',\n",
       "     'message': 'I understand. Would you sell it for X?'}},\n",
       "   {'_index': 'session-human-buyer',\n",
       "    '_type': 'chat-message',\n",
       "    '_id': 'aiTscmoBmpiKfxl8qUBP',\n",
       "    '_score': 1.0,\n",
       "    '_source': {'session': '338c184c-e049-4403-9617-dec481a70e4d',\n",
       "     'timestamp': '2019-05-01T19:54:33.612896',\n",
       "     'is-human': True,\n",
       "     'role': 'buyer',\n",
       "     'message': 'yyyy'}},\n",
       "   {'_index': 'session-human-buyer',\n",
       "    '_type': 'chat-message',\n",
       "    '_id': 'ayTscmoBmpiKfxl8qUBq',\n",
       "    '_score': 1.0,\n",
       "    '_source': {'session': '338c184c-e049-4403-9617-dec481a70e4d',\n",
       "     'timestamp': '2019-05-01T19:54:33.638662',\n",
       "     'is-human': False,\n",
       "     'role': 'seller',\n",
       "     'message': 'I understand. Would you sell it for X?'}}]}}"
      ]
     },
     "execution_count": 8,
     "metadata": {},
     "output_type": "execute_result"
    }
   ],
   "source": [
    "es.search(index=\"session-human-buyer\", doc_type=\"chat-message\")"
   ]
  },
  {
   "cell_type": "code",
   "execution_count": 3,
   "metadata": {},
   "outputs": [],
   "source": [
    "eh = ElasticHandler()"
   ]
  },
  {
   "cell_type": "code",
   "execution_count": 4,
   "metadata": {},
   "outputs": [
    {
     "data": {
      "text/plain": [
       "{'took': 4,\n",
       " 'timed_out': False,\n",
       " '_shards': {'total': 1, 'successful': 1, 'skipped': 0, 'failed': 0},\n",
       " 'hits': {'total': {'value': 9, 'relation': 'eq'},\n",
       "  'max_score': 1.0,\n",
       "  'hits': [{'_index': 'human-buyer',\n",
       "    '_type': 'chat-message',\n",
       "    '_id': 'bCT-cmoBmpiKfxl8-0Cf',\n",
       "    '_score': 1.0,\n",
       "    '_source': {'session': '62966d08-ef75-445a-8e73-03af20950f4c',\n",
       "     'timestamp': '2019-05-01T20:14:34.108678',\n",
       "     'is-human': False,\n",
       "     'role': 'seller',\n",
       "     'message': 'Hello I am looking to buy Car'}},\n",
       "   {'_index': 'human-buyer',\n",
       "    '_type': 'chat-message',\n",
       "    '_id': 'bST_cmoBmpiKfxl8A0BF',\n",
       "    '_score': 1.0,\n",
       "    '_source': {'session': '62966d08-ef75-445a-8e73-03af20950f4c',\n",
       "     'timestamp': '2019-05-01T20:14:36.290328',\n",
       "     'is-human': True,\n",
       "     'role': 'buyer',\n",
       "     'message': 'asdasd'}},\n",
       "   {'_index': 'human-buyer',\n",
       "    '_type': 'chat-message',\n",
       "    '_id': 'biT_cmoBmpiKfxl8A0Bf',\n",
       "    '_score': 1.0,\n",
       "    '_source': {'session': '62966d08-ef75-445a-8e73-03af20950f4c',\n",
       "     'timestamp': '2019-05-01T20:14:36.317567',\n",
       "     'is-human': False,\n",
       "     'role': 'seller',\n",
       "     'message': 'I understand. Would you sell it for X?'}},\n",
       "   {'_index': 'human-buyer',\n",
       "    '_type': 'chat-message',\n",
       "    '_id': 'byT_cmoBmpiKfxl8EkBk',\n",
       "    '_score': 1.0,\n",
       "    '_source': {'session': '62966d08-ef75-445a-8e73-03af20950f4c',\n",
       "     'timestamp': '2019-05-01T20:14:40.160545',\n",
       "     'is-human': True,\n",
       "     'role': 'buyer',\n",
       "     'message': 'qqqq'}},\n",
       "   {'_index': 'human-buyer',\n",
       "    '_type': 'chat-message',\n",
       "    '_id': 'cCT_cmoBmpiKfxl8EkB4',\n",
       "    '_score': 1.0,\n",
       "    '_source': {'session': '62966d08-ef75-445a-8e73-03af20950f4c',\n",
       "     'timestamp': '2019-05-01T20:14:40.181616',\n",
       "     'is-human': False,\n",
       "     'role': 'seller',\n",
       "     'message': 'I understand. Would you sell it for X?'}},\n",
       "   {'_index': 'human-buyer',\n",
       "    '_type': 'chat-message',\n",
       "    '_id': 'cST_cmoBmpiKfxl8GkD_',\n",
       "    '_score': 1.0,\n",
       "    '_source': {'session': '62966d08-ef75-445a-8e73-03af20950f4c',\n",
       "     'timestamp': '2019-05-01T20:14:42.364546',\n",
       "     'is-human': True,\n",
       "     'role': 'buyer',\n",
       "     'message': 'wwww'}},\n",
       "   {'_index': 'human-buyer',\n",
       "    '_type': 'chat-message',\n",
       "    '_id': 'ciT_cmoBmpiKfxl8G0AX',\n",
       "    '_score': 1.0,\n",
       "    '_source': {'session': '62966d08-ef75-445a-8e73-03af20950f4c',\n",
       "     'timestamp': '2019-05-01T20:14:42.388384',\n",
       "     'is-human': False,\n",
       "     'role': 'seller',\n",
       "     'message': 'I understand. Would you sell it for X?'}},\n",
       "   {'_index': 'human-buyer',\n",
       "    '_type': 'chat-message',\n",
       "    '_id': 'cyT_cmoBmpiKfxl8IUDY',\n",
       "    '_score': 1.0,\n",
       "    '_source': {'session': '62966d08-ef75-445a-8e73-03af20950f4c',\n",
       "     'timestamp': '2019-05-01T20:14:44.116956',\n",
       "     'is-human': True,\n",
       "     'role': 'buyer',\n",
       "     'message': 'eeee'}},\n",
       "   {'_index': 'human-buyer',\n",
       "    '_type': 'chat-message',\n",
       "    '_id': 'dCT_cmoBmpiKfxl8IUDx',\n",
       "    '_score': 1.0,\n",
       "    '_source': {'session': '62966d08-ef75-445a-8e73-03af20950f4c',\n",
       "     'timestamp': '2019-05-01T20:14:44.143346',\n",
       "     'is-human': False,\n",
       "     'role': 'seller',\n",
       "     'message': 'I understand. Would you sell it for X?'}}]}}"
      ]
     },
     "execution_count": 4,
     "metadata": {},
     "output_type": "execute_result"
    }
   ],
   "source": [
    "eh.search('human-buyer')"
   ]
  },
  {
   "cell_type": "code",
   "execution_count": null,
   "metadata": {},
   "outputs": [],
   "source": []
  }
 ],
 "metadata": {
  "kernelspec": {
   "display_name": "Python 3",
   "language": "python",
   "name": "python3"
  },
  "language_info": {
   "codemirror_mode": {
    "name": "ipython",
    "version": 3
   },
   "file_extension": ".py",
   "mimetype": "text/x-python",
   "name": "python",
   "nbconvert_exporter": "python",
   "pygments_lexer": "ipython3",
   "version": "3.6.7"
  }
 },
 "nbformat": 4,
 "nbformat_minor": 2
}
