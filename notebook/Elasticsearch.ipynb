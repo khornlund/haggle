{
 "cells": [
  {
   "cell_type": "code",
   "execution_count": 1,
   "metadata": {},
   "outputs": [],
   "source": [
    "%load_ext autoreload\n",
    "%autoreload 2"
   ]
  },
  {
   "cell_type": "code",
   "execution_count": 2,
   "metadata": {},
   "outputs": [],
   "source": [
    "from datetime import datetime\n",
    "from elasticsearch import Elasticsearch\n",
    "from haggle.elastic import ElasticHandler"
   ]
  },
  {
   "cell_type": "code",
   "execution_count": 3,
   "metadata": {},
   "outputs": [],
   "source": [
    "es = Elasticsearch()"
   ]
  },
  {
   "cell_type": "code",
   "execution_count": 4,
   "metadata": {},
   "outputs": [
    {
     "data": {
      "text/plain": [
       "{'any': 'data', 'timestamp': '2019-05-28T14:16:30.823156'}"
      ]
     },
     "execution_count": 4,
     "metadata": {},
     "output_type": "execute_result"
    }
   ],
   "source": [
    "# datetimes will be serialized\n",
    "es.index(\n",
    "    index=\"my-index\", \n",
    "    doc_type=\"test-type\", \n",
    "    id=43, \n",
    "    body={\n",
    "        \"any\": \"data\", \n",
    "        \"timestamp\": datetime.now()\n",
    "    })\n",
    "\n",
    "# but not deserialized\n",
    "es.get(index=\"my-index\", doc_type=\"test-type\", id=43)['_source']"
   ]
  },
  {
   "cell_type": "code",
   "execution_count": 6,
   "metadata": {
    "scrolled": true
   },
   "outputs": [
    {
     "data": {
      "text/plain": [
       "{'took': 31,\n",
       " 'timed_out': False,\n",
       " '_shards': {'total': 1, 'successful': 1, 'skipped': 0, 'failed': 0},\n",
       " 'hits': {'total': {'value': 7, 'relation': 'eq'},\n",
       "  'max_score': 1.0,\n",
       "  'hits': [{'_index': 'human-buyer',\n",
       "    '_type': 'chat-message',\n",
       "    '_id': 'k3vC_GoBnoPya-LHXbs8',\n",
       "    '_score': 1.0,\n",
       "    '_source': {'session': '007f1732-ccca-4f66-8d7f-7f39eeeb72a7',\n",
       "     'timestamp': '2019-05-28T14:15:57.111355',\n",
       "     'is-human': False,\n",
       "     'role': 'seller',\n",
       "     'message': 'Hello I am looking to buy Car'}},\n",
       "   {'_index': 'human-buyer',\n",
       "    '_type': 'chat-message',\n",
       "    '_id': 'lHvC_GoBnoPya-LHY7u7',\n",
       "    '_score': 1.0,\n",
       "    '_source': {'session': '007f1732-ccca-4f66-8d7f-7f39eeeb72a7',\n",
       "     'timestamp': '2019-05-28T14:15:59.094752',\n",
       "     'is-human': True,\n",
       "     'role': 'buyer',\n",
       "     'message': 'asdasd'}},\n",
       "   {'_index': 'human-buyer',\n",
       "    '_type': 'chat-message',\n",
       "    '_id': 'lXvC_GoBnoPya-LHY7vZ',\n",
       "    '_score': 1.0,\n",
       "    '_source': {'session': '007f1732-ccca-4f66-8d7f-7f39eeeb72a7',\n",
       "     'timestamp': '2019-05-28T14:15:59.127141',\n",
       "     'is-human': False,\n",
       "     'role': 'seller',\n",
       "     'message': 'I understand. Would you sell it for X?'}},\n",
       "   {'_index': 'human-buyer',\n",
       "    '_type': 'chat-message',\n",
       "    '_id': 'lnvC_GoBnoPya-LHabu6',\n",
       "    '_score': 1.0,\n",
       "    '_source': {'session': '007f1732-ccca-4f66-8d7f-7f39eeeb72a7',\n",
       "     'timestamp': '2019-05-28T14:16:00.630227',\n",
       "     'is-human': True,\n",
       "     'role': 'buyer',\n",
       "     'message': 'sdfsdf'}},\n",
       "   {'_index': 'human-buyer',\n",
       "    '_type': 'chat-message',\n",
       "    '_id': 'l3vC_GoBnoPya-LHabvR',\n",
       "    '_score': 1.0,\n",
       "    '_source': {'session': '007f1732-ccca-4f66-8d7f-7f39eeeb72a7',\n",
       "     'timestamp': '2019-05-28T14:16:00.655036',\n",
       "     'is-human': False,\n",
       "     'role': 'seller',\n",
       "     'message': 'I understand. Would you sell it for X?'}},\n",
       "   {'_index': 'human-buyer',\n",
       "    '_type': 'chat-message',\n",
       "    '_id': 'mHvC_GoBnoPya-LHb7u1',\n",
       "    '_score': 1.0,\n",
       "    '_source': {'session': '007f1732-ccca-4f66-8d7f-7f39eeeb72a7',\n",
       "     'timestamp': '2019-05-28T14:16:02.161379',\n",
       "     'is-human': True,\n",
       "     'role': 'buyer',\n",
       "     'message': 'zxczxc'}},\n",
       "   {'_index': 'human-buyer',\n",
       "    '_type': 'chat-message',\n",
       "    '_id': 'mXvC_GoBnoPya-LHb7vO',\n",
       "    '_score': 1.0,\n",
       "    '_source': {'session': '007f1732-ccca-4f66-8d7f-7f39eeeb72a7',\n",
       "     'timestamp': '2019-05-28T14:16:02.187307',\n",
       "     'is-human': False,\n",
       "     'role': 'seller',\n",
       "     'message': 'I understand. Would you sell it for X?'}}]}}"
      ]
     },
     "execution_count": 6,
     "metadata": {},
     "output_type": "execute_result"
    }
   ],
   "source": [
    "es.search(index=\"human-buyer\", doc_type=\"chat-message\")"
   ]
  },
  {
   "cell_type": "code",
   "execution_count": 7,
   "metadata": {},
   "outputs": [],
   "source": [
    "eh = ElasticHandler()"
   ]
  },
  {
   "cell_type": "code",
   "execution_count": 8,
   "metadata": {},
   "outputs": [
    {
     "data": {
      "text/plain": [
       "{'took': 3,\n",
       " 'timed_out': False,\n",
       " '_shards': {'total': 1, 'successful': 1, 'skipped': 0, 'failed': 0},\n",
       " 'hits': {'total': {'value': 7, 'relation': 'eq'},\n",
       "  'max_score': 1.0,\n",
       "  'hits': [{'_index': 'human-buyer',\n",
       "    '_type': 'chat-message',\n",
       "    '_id': 'k3vC_GoBnoPya-LHXbs8',\n",
       "    '_score': 1.0,\n",
       "    '_source': {'session': '007f1732-ccca-4f66-8d7f-7f39eeeb72a7',\n",
       "     'timestamp': '2019-05-28T14:15:57.111355',\n",
       "     'is-human': False,\n",
       "     'role': 'seller',\n",
       "     'message': 'Hello I am looking to buy Car'}},\n",
       "   {'_index': 'human-buyer',\n",
       "    '_type': 'chat-message',\n",
       "    '_id': 'lHvC_GoBnoPya-LHY7u7',\n",
       "    '_score': 1.0,\n",
       "    '_source': {'session': '007f1732-ccca-4f66-8d7f-7f39eeeb72a7',\n",
       "     'timestamp': '2019-05-28T14:15:59.094752',\n",
       "     'is-human': True,\n",
       "     'role': 'buyer',\n",
       "     'message': 'asdasd'}},\n",
       "   {'_index': 'human-buyer',\n",
       "    '_type': 'chat-message',\n",
       "    '_id': 'lXvC_GoBnoPya-LHY7vZ',\n",
       "    '_score': 1.0,\n",
       "    '_source': {'session': '007f1732-ccca-4f66-8d7f-7f39eeeb72a7',\n",
       "     'timestamp': '2019-05-28T14:15:59.127141',\n",
       "     'is-human': False,\n",
       "     'role': 'seller',\n",
       "     'message': 'I understand. Would you sell it for X?'}},\n",
       "   {'_index': 'human-buyer',\n",
       "    '_type': 'chat-message',\n",
       "    '_id': 'lnvC_GoBnoPya-LHabu6',\n",
       "    '_score': 1.0,\n",
       "    '_source': {'session': '007f1732-ccca-4f66-8d7f-7f39eeeb72a7',\n",
       "     'timestamp': '2019-05-28T14:16:00.630227',\n",
       "     'is-human': True,\n",
       "     'role': 'buyer',\n",
       "     'message': 'sdfsdf'}},\n",
       "   {'_index': 'human-buyer',\n",
       "    '_type': 'chat-message',\n",
       "    '_id': 'l3vC_GoBnoPya-LHabvR',\n",
       "    '_score': 1.0,\n",
       "    '_source': {'session': '007f1732-ccca-4f66-8d7f-7f39eeeb72a7',\n",
       "     'timestamp': '2019-05-28T14:16:00.655036',\n",
       "     'is-human': False,\n",
       "     'role': 'seller',\n",
       "     'message': 'I understand. Would you sell it for X?'}},\n",
       "   {'_index': 'human-buyer',\n",
       "    '_type': 'chat-message',\n",
       "    '_id': 'mHvC_GoBnoPya-LHb7u1',\n",
       "    '_score': 1.0,\n",
       "    '_source': {'session': '007f1732-ccca-4f66-8d7f-7f39eeeb72a7',\n",
       "     'timestamp': '2019-05-28T14:16:02.161379',\n",
       "     'is-human': True,\n",
       "     'role': 'buyer',\n",
       "     'message': 'zxczxc'}},\n",
       "   {'_index': 'human-buyer',\n",
       "    '_type': 'chat-message',\n",
       "    '_id': 'mXvC_GoBnoPya-LHb7vO',\n",
       "    '_score': 1.0,\n",
       "    '_source': {'session': '007f1732-ccca-4f66-8d7f-7f39eeeb72a7',\n",
       "     'timestamp': '2019-05-28T14:16:02.187307',\n",
       "     'is-human': False,\n",
       "     'role': 'seller',\n",
       "     'message': 'I understand. Would you sell it for X?'}}]}}"
      ]
     },
     "execution_count": 8,
     "metadata": {},
     "output_type": "execute_result"
    }
   ],
   "source": [
    "eh.search('human-buyer')"
   ]
  },
  {
   "cell_type": "code",
   "execution_count": null,
   "metadata": {},
   "outputs": [],
   "source": []
  }
 ],
 "metadata": {
  "kernelspec": {
   "display_name": "Python 3",
   "language": "python",
   "name": "python3"
  },
  "language_info": {
   "codemirror_mode": {
    "name": "ipython",
    "version": 3
   },
   "file_extension": ".py",
   "mimetype": "text/x-python",
   "name": "python",
   "nbconvert_exporter": "python",
   "pygments_lexer": "ipython3",
   "version": "3.6.7"
  }
 },
 "nbformat": 4,
 "nbformat_minor": 2
}
