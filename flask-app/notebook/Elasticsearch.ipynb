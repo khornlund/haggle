{
 "cells": [
  {
   "cell_type": "code",
   "execution_count": 1,
   "metadata": {},
   "outputs": [],
   "source": [
    "%load_ext autoreload\n",
    "%autoreload 2"
   ]
  },
  {
   "cell_type": "code",
   "execution_count": 2,
   "metadata": {},
   "outputs": [],
   "source": [
    "from datetime import datetime\n",
    "from elasticsearch import Elasticsearch\n",
    "from haggle.elastic import ElasticHandler, ElasticIndices"
   ]
  },
  {
   "cell_type": "code",
   "execution_count": 3,
   "metadata": {},
   "outputs": [],
   "source": [
    "es = Elasticsearch()"
   ]
  },
  {
   "cell_type": "code",
   "execution_count": 4,
   "metadata": {
    "scrolled": true
   },
   "outputs": [
    {
     "data": {
      "text/plain": [
       "{'took': 44,\n",
       " 'timed_out': False,\n",
       " '_shards': {'total': 1, 'successful': 1, 'skipped': 0, 'failed': 0},\n",
       " 'hits': {'total': {'value': 7, 'relation': 'eq'},\n",
       "  'max_score': 1.0,\n",
       "  'hits': [{'_index': 'human-buyer',\n",
       "    '_type': 'chat-message',\n",
       "    '_id': 'pv8ZJmsBJmAVmgXkf2SG',\n",
       "    '_score': 1.0,\n",
       "    '_source': {'session': '018e9db4-4210-4b6a-af3b-40cad8d5c8e8',\n",
       "     'timestamp': '2019-06-05T14:55:33.390771',\n",
       "     'is-human': False,\n",
       "     'role': 'seller',\n",
       "     'message': 'Hello I am looking to buy Car'}},\n",
       "   {'_index': 'human-buyer',\n",
       "    '_type': 'chat-message',\n",
       "    '_id': 'p_8ZJmsBJmAVmgXkjWSZ',\n",
       "    '_score': 1.0,\n",
       "    '_source': {'session': '018e9db4-4210-4b6a-af3b-40cad8d5c8e8',\n",
       "     'timestamp': '2019-06-05T14:55:37.304437',\n",
       "     'is-human': True,\n",
       "     'role': 'buyer',\n",
       "     'message': 'aNSDLASD'}},\n",
       "   {'_index': 'human-buyer',\n",
       "    '_type': 'chat-message',\n",
       "    '_id': 'qP8ZJmsBJmAVmgXkjWS0',\n",
       "    '_score': 1.0,\n",
       "    '_source': {'session': '018e9db4-4210-4b6a-af3b-40cad8d5c8e8',\n",
       "     'timestamp': '2019-06-05T14:55:37.331165',\n",
       "     'is-human': False,\n",
       "     'role': 'seller',\n",
       "     'message': 'I understand. Would you sell it for X?'}},\n",
       "   {'_index': 'human-buyer',\n",
       "    '_type': 'chat-message',\n",
       "    '_id': 'qf8ZJmsBJmAVmgXkmGSa',\n",
       "    '_score': 1.0,\n",
       "    '_source': {'session': '018e9db4-4210-4b6a-af3b-40cad8d5c8e8',\n",
       "     'timestamp': '2019-06-05T14:55:40.121116',\n",
       "     'is-human': True,\n",
       "     'role': 'buyer',\n",
       "     'message': 'SDFSDF'}},\n",
       "   {'_index': 'human-buyer',\n",
       "    '_type': 'chat-message',\n",
       "    '_id': 'qv8ZJmsBJmAVmgXkmGS0',\n",
       "    '_score': 1.0,\n",
       "    '_source': {'session': '018e9db4-4210-4b6a-af3b-40cad8d5c8e8',\n",
       "     'timestamp': '2019-06-05T14:55:40.147599',\n",
       "     'is-human': False,\n",
       "     'role': 'seller',\n",
       "     'message': 'I understand. Would you sell it for X?'}},\n",
       "   {'_index': 'human-buyer',\n",
       "    '_type': 'chat-message',\n",
       "    '_id': 'q_8ZJmsBJmAVmgXkpmTB',\n",
       "    '_score': 1.0,\n",
       "    '_source': {'session': '018e9db4-4210-4b6a-af3b-40cad8d5c8e8',\n",
       "     'timestamp': '2019-06-05T14:55:43.744477',\n",
       "     'is-human': True,\n",
       "     'role': 'buyer',\n",
       "     'message': 'Hello I am seb'}},\n",
       "   {'_index': 'human-buyer',\n",
       "    '_type': 'chat-message',\n",
       "    '_id': 'rP8ZJmsBJmAVmgXkpmTU',\n",
       "    '_score': 1.0,\n",
       "    '_source': {'session': '018e9db4-4210-4b6a-af3b-40cad8d5c8e8',\n",
       "     'timestamp': '2019-06-05T14:55:43.763740',\n",
       "     'is-human': False,\n",
       "     'role': 'seller',\n",
       "     'message': 'I understand. Would you sell it for X?'}}]}}"
      ]
     },
     "execution_count": 4,
     "metadata": {},
     "output_type": "execute_result"
    }
   ],
   "source": [
    "es.search(index=ElasticIndices.HUMAN_BUYER)"
   ]
  },
  {
   "cell_type": "code",
   "execution_count": 5,
   "metadata": {},
   "outputs": [],
   "source": [
    "eh = ElasticHandler()"
   ]
  },
  {
   "cell_type": "code",
   "execution_count": 6,
   "metadata": {},
   "outputs": [
    {
     "data": {
      "text/plain": [
       "{'took': 14,\n",
       " 'timed_out': False,\n",
       " '_shards': {'total': 1, 'successful': 1, 'skipped': 0, 'failed': 0},\n",
       " 'hits': {'total': {'value': 7, 'relation': 'eq'},\n",
       "  'max_score': 1.0,\n",
       "  'hits': [{'_index': 'human-buyer',\n",
       "    '_type': 'chat-message',\n",
       "    '_id': 'pv8ZJmsBJmAVmgXkf2SG',\n",
       "    '_score': 1.0,\n",
       "    '_source': {'session': '018e9db4-4210-4b6a-af3b-40cad8d5c8e8',\n",
       "     'timestamp': '2019-06-05T14:55:33.390771',\n",
       "     'is-human': False,\n",
       "     'role': 'seller',\n",
       "     'message': 'Hello I am looking to buy Car'}},\n",
       "   {'_index': 'human-buyer',\n",
       "    '_type': 'chat-message',\n",
       "    '_id': 'p_8ZJmsBJmAVmgXkjWSZ',\n",
       "    '_score': 1.0,\n",
       "    '_source': {'session': '018e9db4-4210-4b6a-af3b-40cad8d5c8e8',\n",
       "     'timestamp': '2019-06-05T14:55:37.304437',\n",
       "     'is-human': True,\n",
       "     'role': 'buyer',\n",
       "     'message': 'aNSDLASD'}},\n",
       "   {'_index': 'human-buyer',\n",
       "    '_type': 'chat-message',\n",
       "    '_id': 'qP8ZJmsBJmAVmgXkjWS0',\n",
       "    '_score': 1.0,\n",
       "    '_source': {'session': '018e9db4-4210-4b6a-af3b-40cad8d5c8e8',\n",
       "     'timestamp': '2019-06-05T14:55:37.331165',\n",
       "     'is-human': False,\n",
       "     'role': 'seller',\n",
       "     'message': 'I understand. Would you sell it for X?'}},\n",
       "   {'_index': 'human-buyer',\n",
       "    '_type': 'chat-message',\n",
       "    '_id': 'qf8ZJmsBJmAVmgXkmGSa',\n",
       "    '_score': 1.0,\n",
       "    '_source': {'session': '018e9db4-4210-4b6a-af3b-40cad8d5c8e8',\n",
       "     'timestamp': '2019-06-05T14:55:40.121116',\n",
       "     'is-human': True,\n",
       "     'role': 'buyer',\n",
       "     'message': 'SDFSDF'}},\n",
       "   {'_index': 'human-buyer',\n",
       "    '_type': 'chat-message',\n",
       "    '_id': 'qv8ZJmsBJmAVmgXkmGS0',\n",
       "    '_score': 1.0,\n",
       "    '_source': {'session': '018e9db4-4210-4b6a-af3b-40cad8d5c8e8',\n",
       "     'timestamp': '2019-06-05T14:55:40.147599',\n",
       "     'is-human': False,\n",
       "     'role': 'seller',\n",
       "     'message': 'I understand. Would you sell it for X?'}},\n",
       "   {'_index': 'human-buyer',\n",
       "    '_type': 'chat-message',\n",
       "    '_id': 'q_8ZJmsBJmAVmgXkpmTB',\n",
       "    '_score': 1.0,\n",
       "    '_source': {'session': '018e9db4-4210-4b6a-af3b-40cad8d5c8e8',\n",
       "     'timestamp': '2019-06-05T14:55:43.744477',\n",
       "     'is-human': True,\n",
       "     'role': 'buyer',\n",
       "     'message': 'Hello I am seb'}},\n",
       "   {'_index': 'human-buyer',\n",
       "    '_type': 'chat-message',\n",
       "    '_id': 'rP8ZJmsBJmAVmgXkpmTU',\n",
       "    '_score': 1.0,\n",
       "    '_source': {'session': '018e9db4-4210-4b6a-af3b-40cad8d5c8e8',\n",
       "     'timestamp': '2019-06-05T14:55:43.763740',\n",
       "     'is-human': False,\n",
       "     'role': 'seller',\n",
       "     'message': 'I understand. Would you sell it for X?'}}]}}"
      ]
     },
     "execution_count": 6,
     "metadata": {},
     "output_type": "execute_result"
    }
   ],
   "source": [
    "eh.search(ElasticIndices.HUMAN_BUYER)"
   ]
  },
  {
   "cell_type": "code",
   "execution_count": null,
   "metadata": {},
   "outputs": [],
   "source": []
  }
 ],
 "metadata": {
  "kernelspec": {
   "display_name": "Python 3",
   "language": "python",
   "name": "python3"
  },
  "language_info": {
   "codemirror_mode": {
    "name": "ipython",
    "version": 3
   },
   "file_extension": ".py",
   "mimetype": "text/x-python",
   "name": "python",
   "nbconvert_exporter": "python",
   "pygments_lexer": "ipython3",
   "version": "3.6.7"
  }
 },
 "nbformat": 4,
 "nbformat_minor": 2
}
